{
 "cells": [
  {
   "cell_type": "code",
   "execution_count": 7,
   "id": "initial_id",
   "metadata": {
    "collapsed": true,
    "ExecuteTime": {
     "end_time": "2023-09-26T16:28:30.219185200Z",
     "start_time": "2023-09-26T16:28:29.898583800Z"
    }
   },
   "outputs": [],
   "source": [
    "import pandas as pd\n",
    "\n",
    "avi_bridger = pd.read_csv('bridger.csv')\n",
    "avi_lionhead = pd.read_csv('lionhead.csv')\n",
    "avi_northern_gallatin = pd.read_csv('northern-gallatin.csv')\n",
    "avi_northern_madison =  pd.read_csv('northern-madison.csv')\n",
    "avi_southern_gallatin = pd.read_csv('southern-gallatin.csv')\n",
    "avi_southern_madison = pd.read_csv('southern-madison.csv')\n",
    "avi_centennials = pd.read_csv('centennials.csv')\n",
    "avi_cooke_city = pd.read_csv('cooke-city.csv')"
   ]
  },
  {
   "cell_type": "code",
   "execution_count": 6,
   "outputs": [
    {
     "data": {
      "text/plain": "<BarContainer object of 3 artists>"
     },
     "execution_count": 6,
     "metadata": {},
     "output_type": "execute_result"
    },
    {
     "data": {
      "text/plain": "<Figure size 640x480 with 1 Axes>",
      "image/png": "[encoded data removed]"
     },
     "metadata": {},
     "output_type": "display_data"
    }
   ],
   "source": [
    "import matplotlib.pyplot as plt\n",
    "\n",
    "plt.bar(avi_bridger['Date'], height=avi_bridger['Temp'])"
   ],
   "metadata": {
    "collapsed": false,
    "ExecuteTime": {
     "end_time": "2023-09-26T16:23:10.745494600Z",
     "start_time": "2023-09-26T16:23:10.527473400Z"
    }
   },
   "id": "c98d42f8e673ced5"
  },
  {
   "cell_type": "code",
   "execution_count": null,
   "outputs": [],
   "source": [],
   "metadata": {
    "collapsed": false
   },
   "id": "d598af9ce49a60bb"
  }
 ],
 "metadata": {
  "kernelspec": {
   "display_name": "Python 3",
   "language": "python",
   "name": "python3"
  },
  "language_info": {
   "codemirror_mode": {
    "name": "ipython",
    "version": 2
   },
   "file_extension": ".py",
   "mimetype": "text/x-python",
   "name": "python",
   "nbconvert_exporter": "python",
   "pygments_lexer": "ipython2",
   "version": "2.7.6"
  }
 },
 "nbformat": 4,
 "nbformat_minor": 5
}
